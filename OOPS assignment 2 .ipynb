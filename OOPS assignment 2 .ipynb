{
 "cells": [
  {
   "cell_type": "markdown",
   "id": "5e6eff98-c96c-49ed-ad14-fe1ea1d679fa",
   "metadata": {},
   "source": [
    "Q1. What is Abstraction in OOps? Explain with an example.\n",
    "\n",
    "Abstraction is a fundamental concept in object-oriented programming (OOP). \n",
    "It is the process of hiding the implementation details of an object from the user. \n",
    "This allows the user to focus on the object's functionality, without having to worry about how it works.\n",
    "\n",
    "For example, let's consider a Car class. \n",
    "The users of the Car class are interested in its basic functionalities such as starting the car, accelerating, and braking. They don't need to know the intricate details of how the engine works, the ignition system, or the internal mechanics. \n",
    "By abstracting away these implementation details, we can provide a simplified interface to the users, like start(), accelerate(), and brake(), which encapsulate the complex operations within the Car class. \n",
    "This way, users can interact with the Car object without being concerned about the internal complexities."
   ]
  },
  {
   "cell_type": "markdown",
   "id": "73a2c025-e96d-4caa-8030-21876df92e14",
   "metadata": {},
   "source": [
    "Q2. Differentiate between Abstraction and Encapsulation. Explain with an example.\n",
    "\n",
    "Abstraction and encapsulation are two closely related concepts in OOP. However, they are not the same thing.\n",
    "\n",
    "Abstraction is the process of hiding the implementation details of an object. Encapsulation is the process of bundling together the data and methods of an object.\n",
    "\n",
    "The difference between abstraction and encapsulation is that abstraction hides the implementation details of an object, while encapsulation hides the data and methods of an object."
   ]
  },
  {
   "cell_type": "code",
   "execution_count": 2,
   "id": "0f7b2fd3-8508-4258-881d-99adf1171f1d",
   "metadata": {},
   "outputs": [],
   "source": [
    "# Abstraction\n",
    "class Animal:\n",
    "    def make_sound(self):\n",
    "        pass\n",
    "\n",
    "class Dog(Animal):\n",
    "    def make_sound(self):\n",
    "        print(\"Woof!\")\n",
    "\n",
    "class Cat(Animal):\n",
    "    def make_sound(self):\n",
    "        print(\"Meow!\")"
   ]
  },
  {
   "cell_type": "code",
   "execution_count": 3,
   "id": "9b5407e5-b55d-4b6b-bfbb-aeaaa9103dca",
   "metadata": {},
   "outputs": [],
   "source": [
    "# Encapsulation\n",
    "class BankAccount:\n",
    "    def __init__(self, balance):\n",
    "        self.__balance = balance\n",
    "\n",
    "    def deposit(self, amount):\n",
    "        self.__balance += amount\n",
    "\n",
    "    def withdraw(self, amount):\n",
    "        if amount <= self.__balance:\n",
    "            self.__balance -= amount\n",
    "        else:\n",
    "            print(\"Insufficient balance.\")\n",
    "\n",
    "    def get_balance(self):\n",
    "        return self.__balance"
   ]
  },
  {
   "cell_type": "markdown",
   "id": "0e225c43-39a7-4c60-908d-65929a231fe5",
   "metadata": {},
   "source": [
    "Q3. What is abc module in python? Why is it used?\n",
    "\n",
    "The abc module in Python is used to define abstract base classes. \n",
    "Abstract base classes are classes that cannot be instantiated. \n",
    "However, they can be inherited from by other classes.\n",
    "\n",
    "The abc module is used to define abstract base classes because it provides \n",
    "a way to enforce certain constraints on the subclasses of those classes. \n",
    "For example, an abstract base class might require that all of its subclasses implement a certain method."
   ]
  },
  {
   "cell_type": "markdown",
   "id": "1f8a533a-89c3-4166-a8d9-5f250fbec188",
   "metadata": {},
   "source": [
    "Q4. How can we achieve data abstraction?\n",
    "\n",
    "Data abstraction can be achieved in a number of ways, including\n",
    "\n",
    "1.Using abstract classes\n",
    "2.Using interfaces\n",
    "3.Using encapsulation\n",
    "\n",
    "Abstract classes and interfaces are both ways of defining a set of methods that \n",
    "must be implemented by a subclass. Encapsulation is a way of bundling together \n",
    "the data and methods of an object, so that the data is hidden from the user."
   ]
  },
  {
   "cell_type": "markdown",
   "id": "e33a6e19-5973-47bf-ad2c-bd7f6355edce",
   "metadata": {},
   "source": [
    "Q5. Can we create an instance of an abstract class? Explain your answer.\n",
    "\n",
    "No, we cannot create an instance of an abstract class in most programming languages, including Python. \n",
    "An abstract class is designed to be a blueprint for other classes and cannot be instantiated directly.\n",
    "\n",
    "In Python, if a class contains one or more abstract methods, it must be marked as abstract using the ABC class from the abc module. Abstract classes cannot be instantiated, meaning we cannot create objects directly from them. Instead, we need to create concrete subclasses that inherit from the abstract class and provide implementations for all the abstract methods.\n",
    "\n",
    "Attempting to create an instance of an abstract class in Python will result in a TypeError:"
   ]
  },
  {
   "cell_type": "code",
   "execution_count": 4,
   "id": "446c70ab-40e1-4b2a-afeb-543d044a7536",
   "metadata": {},
   "outputs": [],
   "source": [
    "from abc import ABC, abstractmethod\n",
    "\n",
    "class AbstractClass(ABC):\n",
    "    @abstractmethod\n",
    "    def abstract_method(self):\n",
    "        pass"
   ]
  },
  {
   "cell_type": "code",
   "execution_count": 5,
   "id": "d9b87013-d0da-455d-a5f2-89ee58a61b6f",
   "metadata": {},
   "outputs": [
    {
     "ename": "TypeError",
     "evalue": "Can't instantiate abstract class AbstractClass with abstract method abstract_method",
     "output_type": "error",
     "traceback": [
      "\u001b[0;31m---------------------------------------------------------------------------\u001b[0m",
      "\u001b[0;31mTypeError\u001b[0m                                 Traceback (most recent call last)",
      "Cell \u001b[0;32mIn[5], line 1\u001b[0m\n\u001b[0;32m----> 1\u001b[0m instance \u001b[38;5;241m=\u001b[39m \u001b[43mAbstractClass\u001b[49m\u001b[43m(\u001b[49m\u001b[43m)\u001b[49m\n",
      "\u001b[0;31mTypeError\u001b[0m: Can't instantiate abstract class AbstractClass with abstract method abstract_method"
     ]
    }
   ],
   "source": [
    "instance = AbstractClass()"
   ]
  },
  {
   "cell_type": "markdown",
   "id": "34ab55a6-321b-4536-bb3e-984fd86f0d8a",
   "metadata": {},
   "source": [
    "To utilize the functionalities defined in an abstract class, \n",
    "we need to create a subclass that inherits from it and provides the required implementations."
   ]
  }
 ],
 "metadata": {
  "kernelspec": {
   "display_name": "Python 3 (ipykernel)",
   "language": "python",
   "name": "python3"
  },
  "language_info": {
   "codemirror_mode": {
    "name": "ipython",
    "version": 3
   },
   "file_extension": ".py",
   "mimetype": "text/x-python",
   "name": "python",
   "nbconvert_exporter": "python",
   "pygments_lexer": "ipython3",
   "version": "3.10.8"
  }
 },
 "nbformat": 4,
 "nbformat_minor": 5
}
