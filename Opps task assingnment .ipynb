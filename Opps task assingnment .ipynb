{
 "cells": [
  {
   "cell_type": "markdown",
   "id": "c51e559a-31e3-4f7f-8625-619aef38d64a",
   "metadata": {},
   "source": [
    "Q1, Create a vehicle class with an init method having instance variables as name_of_vehicle, max_speed\n",
    "and average_of_vehicle."
   ]
  },
  {
   "cell_type": "code",
   "execution_count": 2,
   "id": "c32b44e6-f678-4b24-9b03-0dc6cffff1d9",
   "metadata": {},
   "outputs": [],
   "source": [
    "class vehicle :\n",
    "    def __init__(self, name_of_vehicle , max_speed , average_of_vehicle) : \n",
    "        self.name_of_vehicle = name_of_vehicle\n",
    "        self.max_speed = max_speed\n",
    "        self.average_of_vehicle = average_of_vehicle"
   ]
  },
  {
   "cell_type": "code",
   "execution_count": 4,
   "id": "2ebe551b-e0ff-46b6-99a6-dd7fd615c14a",
   "metadata": {},
   "outputs": [],
   "source": [
    "car = vehicle( \"TATA HEXA\" , 170 , 14)"
   ]
  },
  {
   "cell_type": "code",
   "execution_count": 5,
   "id": "ce0a09d7-9810-46ba-9f7d-f4b30f1c243b",
   "metadata": {},
   "outputs": [
    {
     "data": {
      "text/plain": [
       "'TATA HEXA'"
      ]
     },
     "execution_count": 5,
     "metadata": {},
     "output_type": "execute_result"
    }
   ],
   "source": [
    "car.name_of_vehicle"
   ]
  },
  {
   "cell_type": "code",
   "execution_count": 6,
   "id": "d7ff96a0-4633-4ad8-b3e6-017d09539b71",
   "metadata": {},
   "outputs": [
    {
     "data": {
      "text/plain": [
       "170"
      ]
     },
     "execution_count": 6,
     "metadata": {},
     "output_type": "execute_result"
    }
   ],
   "source": [
    "car.max_speed"
   ]
  },
  {
   "cell_type": "code",
   "execution_count": 7,
   "id": "86382d7d-bbe5-45b9-b492-8e378a792fd1",
   "metadata": {},
   "outputs": [
    {
     "data": {
      "text/plain": [
       "14"
      ]
     },
     "execution_count": 7,
     "metadata": {},
     "output_type": "execute_result"
    }
   ],
   "source": [
    "car.average_of_vehicle"
   ]
  },
  {
   "cell_type": "raw",
   "id": "635986a2-5686-4c09-9356-f20ca8258977",
   "metadata": {},
   "source": [
    "Q2. Create a child class car from the vehicle class created in Que 1, which will inherit the vehicle class."
   ]
  },
  {
   "cell_type": "code",
   "execution_count": 8,
   "id": "b585ff5d-4f96-4372-84ef-bbac63d4adba",
   "metadata": {},
   "outputs": [],
   "source": [
    "class car(vehicle) :\n",
    "    \n",
    "    def __init__(self, name_of_vehicle , max_speed , average_of_vehicle , capacity ) : \n",
    "        super().__init__(name_of_vehicle , max_speed , average_of_vehicle)\n",
    "        self.capacity = capacity "
   ]
  },
  {
   "cell_type": "code",
   "execution_count": 9,
   "id": "838ce9b0-0e24-4b33-b68a-617de241380d",
   "metadata": {},
   "outputs": [],
   "source": [
    "c = car( \"TATA HEXA\" , 170 , 14 , 6)"
   ]
  },
  {
   "cell_type": "code",
   "execution_count": 10,
   "id": "c5c83e50-0ce7-440b-9af8-4b9bdd71a842",
   "metadata": {},
   "outputs": [
    {
     "data": {
      "text/plain": [
       "6"
      ]
     },
     "execution_count": 10,
     "metadata": {},
     "output_type": "execute_result"
    }
   ],
   "source": [
    "c.capacity"
   ]
  },
  {
   "cell_type": "markdown",
   "id": "cbb9c5f7-ea76-4aca-8733-dce9d047b69a",
   "metadata": {},
   "source": [
    "Q3. What is multiple inheritance? Write a python code to demonstrate multiple inheritance.\n",
    "\n",
    "Multiple inheritance is a feature in Python where a class can inherit from more than one base class.\n",
    "This allows the derived class to inherit the properties and methods of all the base classes."
   ]
  },
  {
   "cell_type": "code",
   "execution_count": 11,
   "id": "50d40ea2-3293-4d88-b02a-b23219e6c285",
   "metadata": {},
   "outputs": [],
   "source": [
    "class class1:\n",
    "    def test_class1(self):\n",
    "        print(\"this is my class 1\")"
   ]
  },
  {
   "cell_type": "code",
   "execution_count": 12,
   "id": "f47710cc-d565-49b3-ac39-16a280abaf1a",
   "metadata": {},
   "outputs": [],
   "source": [
    "class class2:\n",
    "    def test_class2(self):\n",
    "        print(\"this is my class 2\")"
   ]
  },
  {
   "cell_type": "code",
   "execution_count": 14,
   "id": "1b705e2f-4b62-4157-ac15-e17858dbb159",
   "metadata": {},
   "outputs": [],
   "source": [
    "class class3(class1 ,class2):\n",
    "    pass"
   ]
  },
  {
   "cell_type": "code",
   "execution_count": 15,
   "id": "c2e36505-84c0-414f-858b-52ff9c819a85",
   "metadata": {},
   "outputs": [],
   "source": [
    "obj_class3 = class3()"
   ]
  },
  {
   "cell_type": "code",
   "execution_count": 17,
   "id": "a4cbd628-bdb8-4a54-b89c-1847703a920f",
   "metadata": {},
   "outputs": [
    {
     "name": "stdout",
     "output_type": "stream",
     "text": [
      "this is my class 1\n"
     ]
    }
   ],
   "source": [
    "obj_class3.test_class1()"
   ]
  },
  {
   "cell_type": "code",
   "execution_count": 18,
   "id": "926d3274-9149-4b58-acf8-54d755f21d47",
   "metadata": {},
   "outputs": [
    {
     "name": "stdout",
     "output_type": "stream",
     "text": [
      "this is my class 2\n"
     ]
    }
   ],
   "source": [
    "obj_class3.test_class2()"
   ]
  },
  {
   "cell_type": "markdown",
   "id": "b41bc23d-f38c-4fa8-9c17-de4f8c4ca9c6",
   "metadata": {},
   "source": [
    "Q4. What are getter and setter in python? Create a class and create a getter and a setter method in this\n",
    "class.\n",
    "\n",
    "Getter and setter are special methods in Python that are used to get and set the value of an attribute. \n",
    "The getter method is used to get the value of an attribute, while the setter method is used to set the \n",
    "value of an attribute.\n"
   ]
  },
  {
   "cell_type": "code",
   "execution_count": 19,
   "id": "91ab0f17-fe7b-43eb-aefe-2ecadb7be7ef",
   "metadata": {},
   "outputs": [],
   "source": [
    "class vehicle:\n",
    "    \n",
    "    def __init__(self, name_of_vehicle , speed , average_of_vehicle):\n",
    "        self.__name_of_vehicle = name_of_vehicle\n",
    "        self.__speed = 0\n",
    "        self.__average_of_vehicle = average_of_vehicle\n",
    "        \n",
    "    def set_speed(self , speed ):\n",
    "        self.__speed = 0 if speed < 0 else speed \n",
    "        \n",
    "    def get_speed(self):\n",
    "        return self.__speed "
   ]
  },
  {
   "cell_type": "code",
   "execution_count": 20,
   "id": "76b12959-ae63-4569-8565-b669e997eb79",
   "metadata": {},
   "outputs": [],
   "source": [
    "car = vehicle( \" TATA HEXA \" , 170 , 14 )"
   ]
  },
  {
   "cell_type": "code",
   "execution_count": 21,
   "id": "18ca779c-45db-48f0-b5e1-f05a40d13791",
   "metadata": {},
   "outputs": [],
   "source": [
    "car.set_speed(234)"
   ]
  },
  {
   "cell_type": "code",
   "execution_count": 22,
   "id": "f540d8c3-b136-425c-8fc9-2e8e2bee5eff",
   "metadata": {},
   "outputs": [
    {
     "data": {
      "text/plain": [
       "234"
      ]
     },
     "execution_count": 22,
     "metadata": {},
     "output_type": "execute_result"
    }
   ],
   "source": [
    "car.get_speed()"
   ]
  },
  {
   "cell_type": "markdown",
   "id": "53fbab95-7b43-4e48-937e-a517fe0f7d7b",
   "metadata": {},
   "source": [
    "Q5.What is method overriding in python? Write a python code to demonstrate method overriding.\n",
    "\n",
    "Method overriding is a feature in Python where a subclass can override a method from its parent class.\n",
    "This allows the subclass to provide its own implementation of the method."
   ]
  },
  {
   "cell_type": "code",
   "execution_count": 33,
   "id": "eef7f688-7656-4551-a0fa-8c94585adefa",
   "metadata": {},
   "outputs": [],
   "source": [
    "class class1:\n",
    "    def test_class1(self):\n",
    "        print(\"this is my class 1\")"
   ]
  },
  {
   "cell_type": "code",
   "execution_count": 34,
   "id": "4f452521-dc6c-41a5-aa5b-7a1834e80adc",
   "metadata": {},
   "outputs": [],
   "source": [
    "class class2(class1):\n",
    "    def test_class1(self):\n",
    "        print(\"this is my class 2\")"
   ]
  },
  {
   "cell_type": "code",
   "execution_count": 35,
   "id": "27f11cd8-4054-42c6-8125-e497025e7faa",
   "metadata": {},
   "outputs": [],
   "source": [
    "c = class2()"
   ]
  },
  {
   "cell_type": "code",
   "execution_count": 36,
   "id": "30fd233d-f80a-488f-a194-e7a2d9f58c72",
   "metadata": {},
   "outputs": [
    {
     "name": "stdout",
     "output_type": "stream",
     "text": [
      "this is my class 2\n"
     ]
    }
   ],
   "source": [
    "c.test_class1()"
   ]
  }
 ],
 "metadata": {
  "kernelspec": {
   "display_name": "Python 3 (ipykernel)",
   "language": "python",
   "name": "python3"
  },
  "language_info": {
   "codemirror_mode": {
    "name": "ipython",
    "version": 3
   },
   "file_extension": ".py",
   "mimetype": "text/x-python",
   "name": "python",
   "nbconvert_exporter": "python",
   "pygments_lexer": "ipython3",
   "version": "3.10.8"
  }
 },
 "nbformat": 4,
 "nbformat_minor": 5
}
