{
 "cells": [
  {
   "cell_type": "markdown",
   "id": "2275f72e-6233-4b3e-a6ea-7a11b2cfae20",
   "metadata": {},
   "source": [
    "Q1. Explain Class and Object with respect to Object-Oriented Programming. Give a suitable example.\n",
    "\n",
    "In object-oriented programming, a class is a blueprint for creating objects. \n",
    "It defines the properties and behaviors of an object. \n",
    "An object is an instance of a class. It is a concrete representation of the class."
   ]
  },
  {
   "cell_type": "code",
   "execution_count": 25,
   "id": "39cae5d1-0c08-455e-a036-e8d837093a37",
   "metadata": {},
   "outputs": [],
   "source": [
    "#Creating class \n",
    "class car:\n",
    "    def __init__(self, color, brand, model):\n",
    "        self.color = color\n",
    "        self.brand = brand\n",
    "        self.model = model"
   ]
  },
  {
   "cell_type": "code",
   "execution_count": 26,
   "id": "7a594e6c-6f49-4992-bce9-e5603852862c",
   "metadata": {},
   "outputs": [],
   "source": [
    "#Object creating for class car (here car1 is an object) \n",
    "car1 = car(\"red\" , \"TATA\" , 2023)"
   ]
  },
  {
   "cell_type": "code",
   "execution_count": 22,
   "id": "fd6a78cc-efc4-4f13-ba71-b7c1dfd863e0",
   "metadata": {},
   "outputs": [
    {
     "data": {
      "text/plain": [
       "'red'"
      ]
     },
     "execution_count": 22,
     "metadata": {},
     "output_type": "execute_result"
    }
   ],
   "source": [
    "car1.color"
   ]
  },
  {
   "cell_type": "code",
   "execution_count": 23,
   "id": "3132b142-a58a-42fb-9a69-f05215c7ac89",
   "metadata": {},
   "outputs": [
    {
     "data": {
      "text/plain": [
       "'TATA'"
      ]
     },
     "execution_count": 23,
     "metadata": {},
     "output_type": "execute_result"
    }
   ],
   "source": [
    "car1.brand"
   ]
  },
  {
   "cell_type": "code",
   "execution_count": 24,
   "id": "5dcbc77a-5949-4b09-a92d-005cae8d0740",
   "metadata": {},
   "outputs": [
    {
     "data": {
      "text/plain": [
       "2023"
      ]
     },
     "execution_count": 24,
     "metadata": {},
     "output_type": "execute_result"
    }
   ],
   "source": [
    "car1.model"
   ]
  },
  {
   "cell_type": "markdown",
   "id": "5c348a5a-b44b-4fdc-9e62-59b3d0d730e3",
   "metadata": {},
   "source": [
    "Q2. Name the four pillars of OOPs.\n",
    "\n",
    "The four pillars of OOPS are as follows\n",
    "\n",
    "1.Abstraction. Abstraction is the process of hiding the implementation details of an object from the user. \n",
    "This allows the user to focus on the object's functionality, without having to worry about how it works internally.\n",
    "\n",
    "2.Encapsulation. Encapsulation is the bundling of data and methods into a single unit. \n",
    "This makes it easier to manage the data and methods, and to protect them from unauthorized access.\n",
    "\n",
    "3.Inheritance. Inheritance is the ability of one class to inherit the properties and methods of another class. \n",
    "This allows for code reuse and the creation of more complex and specialized objects.\n",
    "\n",
    "4.Polymorphism. Polymorphism is the ability of an object to behave differently in different contexts. \n",
    "This is achieved through the use of methods with the same name, but with different implementations."
   ]
  },
  {
   "cell_type": "markdown",
   "id": "c91f36f1-e3db-4205-8aa7-ae36c8e39bab",
   "metadata": {},
   "source": [
    "Q3. Explain why the __init__() function is used. Give a suitable example.\n",
    "\n",
    "The __init__() function is a special function in a class that is called when an object is created. It is used to initialize the object's properties."
   ]
  },
  {
   "cell_type": "code",
   "execution_count": 27,
   "id": "1bc5127b-41ad-49c4-b937-c287a9cc14be",
   "metadata": {},
   "outputs": [],
   "source": [
    "#For example, the following code shows a Car class with an __init__() function:\n",
    "\n",
    "class car:\n",
    "    def __init__(self, color, brand, model):\n",
    "        self.color = color\n",
    "        self.brand = brand\n",
    "        self.model = model\n",
    "\n",
    "#When a Car object is created, the __init__() function is called with the color, brand and model arguments. \n",
    "#The color, brand and model properties are then initialized with the values of the arguments."
   ]
  },
  {
   "cell_type": "markdown",
   "id": "bf287c86-b3ad-46c3-af5a-eaed348a8072",
   "metadata": {},
   "source": [
    "Q4. Why self is used in OOPs?\n",
    "\n",
    "The self keyword is used in OOPs to refer to the current object. \n",
    "It is used in the __init__() function to initialize the object's properties, \n",
    "and it is used in methods to access the object's properties and methods."
   ]
  },
  {
   "cell_type": "code",
   "execution_count": 30,
   "id": "480d49b7-2fc7-423e-bf07-5172150c4d42",
   "metadata": {},
   "outputs": [],
   "source": [
    "#For example, the following code shows a car class with a method that prints the car's model \n",
    "\n",
    "class car:\n",
    "    def __init__(self, color, brand, model):\n",
    "        self.color = color\n",
    "        self.brand = brand\n",
    "        self.model = model\n",
    "        \n",
    "    def print_model(self):\n",
    "        print(self.model)\n",
    "        \n",
    "#The print_model() method uses the self keyword to refer to the current object. \n",
    "#The model property of the current object is then printed."
   ]
  },
  {
   "cell_type": "code",
   "execution_count": 31,
   "id": "ff9aa784-c526-46ed-b2ff-a9b220ce2fb9",
   "metadata": {},
   "outputs": [],
   "source": [
    "car1 = car(\"red\" , \"TATA\" , 2023)"
   ]
  },
  {
   "cell_type": "code",
   "execution_count": null,
   "id": "12f12238-0bc8-4ea5-ae1c-f52e0cbc7393",
   "metadata": {},
   "outputs": [
    {
     "name": "stdout",
     "output_type": "stream",
     "text": [
      "2023\n"
     ]
    }
   ],
   "source": [
    "car1.print_model()"
   ]
  },
  {
   "cell_type": "markdown",
   "id": "5003ca67-446f-4f8f-8737-3245a2748a3e",
   "metadata": {},
   "source": [
    "Q5. What is inheritance? Give an example for each type of inheritance.\n",
    "\n",
    "Inheritance is the ability of one class to inherit the properties and methods of another class. This allows for code reuse and the creation of more complex and specialized objects.\n",
    "\n",
    "Single inheritance: A class can inherit from only one other class.\n",
    "\n",
    "Multilevel inheritance: A class can inherit from multiple other classes, in a hierarchical fashion.\n"
   ]
  },
  {
   "cell_type": "code",
   "execution_count": 39,
   "id": "3566c63f-0466-4e6d-9831-9e60c72007ab",
   "metadata": {},
   "outputs": [],
   "source": [
    "#Example of single inheritance \n",
    "class Animal:\n",
    "    def breathe(self):\n",
    "        print(\"Breathing...\")\n",
    "\n",
    "class Dog(Animal):\n",
    "    def bark(self):\n",
    "        print(\"Barking...\")"
   ]
  },
  {
   "cell_type": "code",
   "execution_count": 40,
   "id": "f2130fbf-669a-49f1-8b53-ece47444a0d4",
   "metadata": {},
   "outputs": [],
   "source": [
    "dog = Dog()"
   ]
  },
  {
   "cell_type": "code",
   "execution_count": 41,
   "id": "aee2ca07-a812-4cf6-9bd7-f6d434dc93ab",
   "metadata": {},
   "outputs": [
    {
     "name": "stdout",
     "output_type": "stream",
     "text": [
      "Breathing...\n"
     ]
    }
   ],
   "source": [
    "dog.breathe()"
   ]
  },
  {
   "cell_type": "code",
   "execution_count": 36,
   "id": "2c19fab2-abd9-4b01-8a9e-489bca13de1a",
   "metadata": {},
   "outputs": [
    {
     "name": "stdout",
     "output_type": "stream",
     "text": [
      "Barking...\n"
     ]
    }
   ],
   "source": [
    "dog.bark()"
   ]
  },
  {
   "cell_type": "code",
   "execution_count": 44,
   "id": "2aa258f2-0a0f-42eb-8295-bfda44df0061",
   "metadata": {},
   "outputs": [],
   "source": [
    "#Example of multilevel inheritance \n",
    "\n",
    "class Vehicle:\n",
    "    def accelerate(self):\n",
    "        print(\"Accelerating...\")\n",
    "\n",
    "class Car(Vehicle):\n",
    "    def start_engine(self):\n",
    "        print(\"Engine started...\")\n",
    "\n",
    "class Sedan(Car):\n",
    "    def drive(self):\n",
    "        print(\"Driving...\")"
   ]
  },
  {
   "cell_type": "code",
   "execution_count": 47,
   "id": "fc888b7c-64a5-47da-b5a2-0a818baae4cd",
   "metadata": {},
   "outputs": [],
   "source": [
    "sedan = Sedan()"
   ]
  },
  {
   "cell_type": "code",
   "execution_count": 48,
   "id": "8e5924b9-e50c-405c-8b71-782ef0866329",
   "metadata": {},
   "outputs": [
    {
     "name": "stdout",
     "output_type": "stream",
     "text": [
      "Accelerating...\n"
     ]
    }
   ],
   "source": [
    "sedan.accelerate()"
   ]
  },
  {
   "cell_type": "code",
   "execution_count": 49,
   "id": "37339e66-4f4f-4cdb-add0-118b5a847641",
   "metadata": {},
   "outputs": [
    {
     "name": "stdout",
     "output_type": "stream",
     "text": [
      "Driving...\n"
     ]
    }
   ],
   "source": [
    "sedan.drive()"
   ]
  },
  {
   "cell_type": "code",
   "execution_count": 51,
   "id": "d89d2a1d-f681-47e7-904d-7c9bfd6c1392",
   "metadata": {},
   "outputs": [
    {
     "name": "stdout",
     "output_type": "stream",
     "text": [
      "Engine started...\n"
     ]
    }
   ],
   "source": [
    "sedan.start_engine()"
   ]
  }
 ],
 "metadata": {
  "kernelspec": {
   "display_name": "Python 3 (ipykernel)",
   "language": "python",
   "name": "python3"
  },
  "language_info": {
   "codemirror_mode": {
    "name": "ipython",
    "version": 3
   },
   "file_extension": ".py",
   "mimetype": "text/x-python",
   "name": "python",
   "nbconvert_exporter": "python",
   "pygments_lexer": "ipython3",
   "version": "3.10.8"
  }
 },
 "nbformat": 4,
 "nbformat_minor": 5
}
